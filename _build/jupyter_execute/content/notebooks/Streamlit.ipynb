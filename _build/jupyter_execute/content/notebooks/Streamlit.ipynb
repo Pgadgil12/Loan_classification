{
 "cells": [
  {
   "cell_type": "markdown",
   "metadata": {},
   "source": [
    "### StreamLit Code"
   ]
  },
  {
   "cell_type": "code",
   "execution_count": null,
   "metadata": {},
   "outputs": [],
   "source": [
    "import streamlit as st\n",
    "import requests\n",
    "\n",
    "# Streamlit App Title\n",
    "st.title(\"Loan Approval Prediction App\")\n",
    "st.write(\"Enter the required details to check if your loan will be approved.\")\n",
    "\n",
    "# Input Fields\n",
    "person_age = st.number_input(\"Person Age\", min_value=18, max_value=100, value=30, step=1)\n",
    "person_income = st.number_input(\"Person Income (in $)\", min_value=0, value=50000, step=1000)\n",
    "person_emp_exp = st.number_input(\"Employment Experience (in years)\", min_value=0, max_value=50, value=5, step=1)\n",
    "loan_amnt = st.number_input(\"Loan Amount (in $)\", min_value=0, value=10000, step=1000)\n",
    "loan_int_rate = st.number_input(\"Loan Interest Rate (in %)\", min_value=0.0, max_value=100.0, value=5.0, step=0.1)\n",
    "loan_percent_income = st.number_input(\"Loan Percent Income (in %)\", min_value=0.0, max_value=100.0, value=20.0, step=0.1)\n",
    "cb_person_cred_hist_length = st.number_input(\"Credit History Length (in years)\", min_value=0, max_value=50, value=10, step=1)\n",
    "credit_score = st.number_input(\"Credit Score\", min_value=300, max_value=850, value=700, step=1)\n",
    "person_education = st.selectbox(\"Education Level\", [\"High School\", \"Bachelor\", \"Master\", \"Doctorate\"])\n",
    "person_home_ownership = st.selectbox(\"Home Ownership\", [\"OWN\", \"RENT\"])\n",
    "loan_intent = st.selectbox(\"Loan Intent\", [\"EDUCATION\", \"HOMEIMPROVEMENT\", \"MEDICAL\", \"PERSONAL\"])\n",
    "previous_loan_defaults_on_file = st.selectbox(\"Previous Loan Defaults\", [\"Yes\", \"No\"])\n",
    "\n",
    "# API Call Button\n",
    "if st.button(\"Predict Loan Approval\"):\n",
    "    # API Endpoint (Replace with your API URL)\n",
    "    api_url = \"http://127.0.0.1:8000/predict\"\n",
    "\n",
    "    # Payload for API Request\n",
    "    payload = {\n",
    "        \"person_age\": person_age,\n",
    "        \"person_income\": person_income,\n",
    "        \"person_emp_exp\": person_emp_exp,\n",
    "        \"loan_amnt\": loan_amnt,\n",
    "        \"loan_int_rate\": loan_int_rate,\n",
    "        \"loan_percent_income\": loan_percent_income,\n",
    "        \"cb_person_cred_hist_length\": cb_person_cred_hist_length,\n",
    "        \"credit_score\": credit_score,\n",
    "        \"person_education\": person_education,\n",
    "        \"person_home_ownership\": person_home_ownership,\n",
    "        \"loan_intent\": loan_intent,\n",
    "        \"previous_loan_defaults_on_file\": previous_loan_defaults_on_file\n",
    "    }\n",
    "\n",
    "    # Call the API\n",
    "    try:\n",
    "        response = requests.post(api_url, json=payload)\n",
    "\n",
    "        if response.status_code == 200:\n",
    "            result = response.json()\n",
    "            st.success(f\"Prediction: {result['Prediction']}\")\n",
    "        else:\n",
    "            st.error(f\"Error: {response.status_code} - {response.text}\")\n",
    "    except Exception as e:\n",
    "        st.error(f\"An error occurred: {str(e)}\")\n",
    "\n",
    "# Footer\n",
    "st.write(\"---\")\n",
    "st.write(\"Powered by Streamlit and FastAPI.\")\n"
   ]
  }
 ],
 "metadata": {
  "language_info": {
   "name": "python"
  }
 },
 "nbformat": 4,
 "nbformat_minor": 2
}