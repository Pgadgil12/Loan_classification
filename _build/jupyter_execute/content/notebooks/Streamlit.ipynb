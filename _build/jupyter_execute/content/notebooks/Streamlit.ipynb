{
 "cells": [
  {
   "cell_type": "markdown",
   "metadata": {},
   "source": [
    "### StreamLit Code"
   ]
  },
  {
   "cell_type": "code",
   "execution_count": null,
   "metadata": {},
   "outputs": [],
   "source": [
    "import streamlit as st\n",
    "import requests\n",
    "import json\n",
    "\n",
    "# Streamlit app\n",
    "st.title(\"Income Classification App\")\n",
    "\n",
    "# User input form\n",
    "st.header(\"Enter your details:\")\n",
    "age = st.number_input(\"Age\", min_value=1, max_value=100, value=30)\n",
    "hours_per_week = st.number_input(\"Hours per Week\", min_value=1, max_value=100, value=40)\n",
    "education_num = st.slider(\"Education Number\", min_value=1, max_value=16, value=9)\n",
    "capital_gain = st.number_input(\"Capital Gain\", min_value=0, value=0)\n",
    "capital_loss = st.number_input(\"Capital Loss\", min_value=0, value=0)\n",
    "fnlwgt = st.number_input(\"Fnlwgt (Final Weight)\", min_value=0, value=100000)\n",
    "sex = st.selectbox(\"Sex\", ['Male', 'Female'])\n",
    "relationship = st.selectbox(\"Relationship\", ['Wife', 'Own-child', 'Husband', 'Not-in-family', 'Other-relative', 'Unmarried'])\n",
    "workclass = st.selectbox(\"Workclass\", ['Private', 'Self-emp-not-inc', 'Self-emp-inc', 'Federal-gov', 'Local-gov', 'State-gov', 'Without-pay', 'Never-worked'])\n",
    "occupation = st.selectbox(\"Occupation\", [\n",
    "    'Tech-support', 'Craft-repair', 'Other-service', 'Sales', 'Exec-managerial',\n",
    "    'Prof-specialty', 'Handlers-cleaners', 'Machine-op-inspct', 'Adm-clerical',\n",
    "    'Farming-fishing', 'Transport-moving', 'Priv-house-serv', 'Protective-serv',\n",
    "    'Armed-Forces'\n",
    "])\n",
    "\n",
    "# Define the FastAPI endpoint URL\n",
    "# api_url = \"https://income-classifier-backend-630343362277.us-central1.run.app/predict\"\n",
    "api_url = \"http://18.222.116.60/predict\"\n",
    "#api_url = \"http://127.0.0.1:8000/predict\"\n",
    "\n",
    "\n",
    "# Predict button\n",
    "if st.button(\"Predict Income\"):\n",
    "    # Prepare the input data for the API request\n",
    "    input_data = {\n",
    "        \"Age\": age,\n",
    "        \"Hours_per_Week\": hours_per_week,\n",
    "        \"Education_Num\": education_num,\n",
    "        \"Capital_Gain\": capital_gain,\n",
    "        \"Capital_Loss\": capital_loss,\n",
    "        \"Fnlwgt\": fnlwgt,\n",
    "        \"Sex\": sex,\n",
    "        \"Relationship\": relationship,\n",
    "        \"Workclass\": workclass,\n",
    "        \"Occupation\": occupation,\n",
    "    }\n",
    "\n",
    "    # Make the API request\n",
    "    response = requests.post(api_url, json=input_data)\n",
    "    print(response)\n",
    "\n",
    "    if response.status_code == 200:\n",
    "        # Parse the prediction result from the response\n",
    "        prediction = response.json()\n",
    "        st.success(f\"Predicted Income: {prediction['Predicted Income']}\")\n",
    "    else:\n",
    "        st.error(\"Error in making prediction. Please check the FastAPI server.\")\n"
   ]
  }
 ],
 "metadata": {
  "language_info": {
   "name": "python"
  }
 },
 "nbformat": 4,
 "nbformat_minor": 2
}